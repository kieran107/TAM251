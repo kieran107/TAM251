{
 "cells": [
  {
   "cell_type": "markdown",
   "id": "5f6f34e4",
   "metadata": {},
   "source": [
    "# HW 2.1"
   ]
  },
  {
   "cell_type": "code",
   "execution_count": 8,
   "id": "095afb12",
   "metadata": {},
   "outputs": [
    {
     "data": {
      "text/plain": [
       "5.127215268887255"
      ]
     },
     "execution_count": 8,
     "metadata": {},
     "output_type": "execute_result"
    }
   ],
   "source": [
    "from numpy import *\n",
    "\n",
    "L = 200 # mm\n",
    "a = 186 # mm\n",
    "theta = 0.5 # degrees\n",
    "alpha = 39 # degrees\n",
    "\n",
    "theta = radians(theta)\n",
    "alpha = radians(alpha)\n",
    "\n",
    "dB = a*theta  # small rotation\n",
    "L2 = sqrt((L*sin(alpha)+dB)**2 + (L*cos(alpha))**2)\n",
    "ep = (L2-L)/L\n",
    "\n",
    "ep*1e3"
   ]
  },
  {
   "cell_type": "markdown",
   "id": "3fc33fd7",
   "metadata": {},
   "source": [
    "# HW2.2"
   ]
  },
  {
   "cell_type": "code",
   "execution_count": 10,
   "id": "15944fcf",
   "metadata": {},
   "outputs": [
    {
     "data": {
      "text/plain": [
       "2.798507462686567"
      ]
     },
     "execution_count": 10,
     "metadata": {},
     "output_type": "execute_result"
    }
   ],
   "source": [
    "from numpy import *\n",
    "\n",
    "h = 268 # mm\n",
    "a = 240 # mm\n",
    "deltaC = 1.5 # mm\n",
    "\n",
    "dB = deltaC / 2\n",
    "dB/h*1e3"
   ]
  },
  {
   "cell_type": "markdown",
   "id": "809176e1",
   "metadata": {},
   "source": [
    "# HW2.3"
   ]
  },
  {
   "cell_type": "code",
   "execution_count": 11,
   "id": "c52c262d",
   "metadata": {},
   "outputs": [
    {
     "data": {
      "text/plain": [
       "0.6449260964051549"
      ]
     },
     "execution_count": 11,
     "metadata": {},
     "output_type": "execute_result"
    }
   ],
   "source": [
    "from numpy import *\n",
    "\n",
    "a = 6 # in\n",
    "b = 10 # in\n",
    "strain = 0.005\n",
    "\n",
    "DB = (1 + strain) * sqrt(a**2 + b**2)\n",
    "DA = sqrt(DB**2 - b**2)\n",
    "dB = DA - a\n",
    "degrees(dB / b) # small rotation "
   ]
  },
  {
   "cell_type": "markdown",
   "id": "d8d5d687",
   "metadata": {},
   "source": [
    "# HW2.4"
   ]
  },
  {
   "cell_type": "code",
   "execution_count": 13,
   "id": "1a90e95e",
   "metadata": {},
   "outputs": [
    {
     "data": {
      "text/plain": [
       "(3.565028626588811,\n",
       " 0.0035460844270386463,\n",
       " 3.215434083601286,\n",
       " 0.0035523829254765354)"
      ]
     },
     "execution_count": 13,
     "metadata": {},
     "output_type": "execute_result"
    }
   ],
   "source": [
    "from numpy import *\n",
    "\n",
    "a = 622 # mm\n",
    "b = 562 # mm\n",
    "dbx = 2 # mm\n",
    "dcx = 4 # mm\n",
    "dcy = 2 # mm\n",
    "ddx = 2 # mm\n",
    "ddy = 1 # mm\n",
    "\n",
    "# not symmetrical\n",
    "\n",
    "BC = sqrt((b+dcy)**2 + (dcx-dbx)**2)\n",
    "ep_BC = (BC-b)/b*1e3\n",
    "\n",
    "ga_B = arctan((dcx-dbx) / (dcy+b))\n",
    "\n",
    "AB = a + dbx\n",
    "ep_AB = (AB-a)/a*1e3\n",
    "\n",
    "ga_A = arctan(ddx / (ddy+b))\n",
    "\n",
    "ep_BC, ga_B, ep_AB, ga_A"
   ]
  },
  {
   "cell_type": "markdown",
   "id": "458be477",
   "metadata": {},
   "source": [
    "# HW2.5"
   ]
  },
  {
   "cell_type": "code",
   "execution_count": 28,
   "id": "bd3aa4fc",
   "metadata": {},
   "outputs": [
    {
     "data": {
      "text/plain": [
       "-4.195539681745885"
      ]
     },
     "execution_count": 28,
     "metadata": {},
     "output_type": "execute_result"
    }
   ],
   "source": [
    "from numpy import *\n",
    "\n",
    "a = 533 # mm\n",
    "b = 402 # mm\n",
    "db = 2 # mm\n",
    "dd = 2 # mm\n",
    "\n",
    "L0 = sqrt(a**2 + b**2)\n",
    "L = sqrt((a-db)**2 + (b-dd)**2)\n",
    "\n",
    "(L-L0)/L0*1e3"
   ]
  },
  {
   "cell_type": "markdown",
   "id": "114777c2",
   "metadata": {},
   "source": [
    "# HW2.6"
   ]
  },
  {
   "cell_type": "code",
   "execution_count": 25,
   "id": "fce1e01f",
   "metadata": {},
   "outputs": [
    {
     "data": {
      "text/plain": [
       "0.6836569458574446"
      ]
     },
     "execution_count": 25,
     "metadata": {},
     "output_type": "execute_result"
    }
   ],
   "source": [
    "from numpy import *\n",
    "\n",
    "L0 = 1\n",
    "L = 2.05\n",
    "\n",
    "ep_engr = (L-L0)/L0\n",
    "ep_true = log(L/L0)\n",
    "\n",
    "ep_true/ep_engr"
   ]
  }
 ],
 "metadata": {
  "kernelspec": {
   "display_name": "Python 3 (ipykernel)",
   "language": "python",
   "name": "python3"
  },
  "language_info": {
   "codemirror_mode": {
    "name": "ipython",
    "version": 3
   },
   "file_extension": ".py",
   "mimetype": "text/x-python",
   "name": "python",
   "nbconvert_exporter": "python",
   "pygments_lexer": "ipython3",
   "version": "3.9.7"
  }
 },
 "nbformat": 4,
 "nbformat_minor": 5
}
