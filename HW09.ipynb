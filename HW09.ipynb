{
 "cells": [
  {
   "cell_type": "markdown",
   "id": "025fb5f0",
   "metadata": {},
   "source": [
    "# HW9.1"
   ]
  },
  {
   "cell_type": "code",
   "execution_count": 1,
   "id": "adbe187f",
   "metadata": {},
   "outputs": [
    {
     "data": {
      "text/plain": [
       "(964.313213289876, -579.417834273811, -1.80187237198892)"
      ]
     },
     "execution_count": 1,
     "metadata": {},
     "output_type": "execute_result"
    }
   ],
   "source": [
    "from sympy import *\n",
    "\n",
    "a = 645 # mm\n",
    "L = 2963 # mm\n",
    "P = 1125 # N\n",
    "theta = 59 # degrees\n",
    "b = 1482 # mm\n",
    "\n",
    "import numpy as np\n",
    "t = np.radians(theta)\n",
    "a, L, b = np.array([a, L, b])*1e-3\n",
    "\n",
    "V = P*sin(t)  # sign convention\n",
    "N = -P*cos(t)\n",
    "M = -(V*(L-b) - N*a)/10**3\n",
    "\n",
    "V, N, M"
   ]
  },
  {
   "cell_type": "markdown",
   "id": "f42649cc",
   "metadata": {},
   "source": [
    "# HW9.2"
   ]
  },
  {
   "cell_type": "code",
   "execution_count": 2,
   "id": "659b503b",
   "metadata": {},
   "outputs": [
    {
     "data": {
      "text/plain": [
       "(-103.636250920806, 0, -425.304857176841)"
      ]
     },
     "execution_count": 2,
     "metadata": {},
     "output_type": "execute_result"
    }
   ],
   "source": [
    "from sympy import *\n",
    "\n",
    "a = 672; \n",
    "b = 1170;\n",
    "L = 2926;\n",
    "do = 96;\n",
    "di = 56;\n",
    "P = 1171; \n",
    "theta = 65;   \n",
    "\n",
    "import numpy as np\n",
    "t = np.radians(theta)\n",
    "a, L, b, do, di = np.array([a, L, b, do, di])*1e-3\n",
    "\n",
    "# 全取正\n",
    "V = P*sin(t)\n",
    "N = P*cos(t)\n",
    "M = V*(L-b) + N*a\n",
    "\n",
    "A = pi/4*(do**2-di**2)\n",
    "c = 0\n",
    "Sx = -N/A\n",
    "\n",
    "Sy = 0\n",
    "\n",
    "Q = pi/4*do**2/2 * 2*do/(3*pi) - pi/4*di**2/2 * 2*di/(3*pi)\n",
    "I = 1/4/16*pi*(do**4-di**4)\n",
    "t = do - di\n",
    "tau = -V*Q/(I*t)\n",
    "\n",
    "Sx.evalf()/1000, Sy, tau.evalf()/1000"
   ]
  },
  {
   "cell_type": "markdown",
   "id": "61b6b10c",
   "metadata": {},
   "source": [
    "# HW9.3"
   ]
  },
  {
   "cell_type": "code",
   "execution_count": 3,
   "id": "b48e3ec5",
   "metadata": {},
   "outputs": [
    {
     "data": {
      "text/plain": [
       "(-22.3401611134793, 0, 0)"
      ]
     },
     "execution_count": 3,
     "metadata": {},
     "output_type": "execute_result"
    }
   ],
   "source": [
    "a = 675; \n",
    "b = 1178;\n",
    "L = 2946;\n",
    "do = 94;\n",
    "di = 54;\n",
    "P = 884; \n",
    "theta = 54; \n",
    "\n",
    "import numpy as np\n",
    "t = np.radians(theta)\n",
    "a, L, b, do, di = np.array([a, L, b, do, di])*1e-3\n",
    "\n",
    "# 全取正\n",
    "V = P*sin(t)\n",
    "N = P*cos(t)\n",
    "M = V*(L-b) + N*a\n",
    "\n",
    "A = pi/4*(do**2-di**2)\n",
    "c = do/2\n",
    "I = 1/4/16*pi*(do**4-di**4)\n",
    "Sx = -(N/A + M*c/I) # superposition\n",
    "\n",
    "Sy = 0\n",
    "\n",
    "tau = 0\n",
    "\n",
    "Sx.evalf()/10**6, Sy, tau"
   ]
  },
  {
   "cell_type": "markdown",
   "id": "c2400692",
   "metadata": {},
   "source": [
    "# HW9.4"
   ]
  },
  {
   "cell_type": "code",
   "execution_count": 100,
   "id": "bb366115",
   "metadata": {},
   "outputs": [],
   "source": [
    "from sympy import *\n",
    "\n",
    "a = 373 # mm\n",
    "b = 206 # mm\n",
    "c = 252 # mm\n",
    "Pz = 411 # N\n",
    "Py = 385 # N\n",
    "\n",
    "a = a/1000\n",
    "b = b/1000\n",
    "c = c/1000\n",
    "\n",
    "Vy = Py\n",
    "Vz = -Pz\n",
    "Nx = 0\n",
    "Tx = -Pz*c-Py*b\n",
    "My = -Pz*a\n",
    "Mz = -Py*a\n",
    "\n",
    "Vy, Vz, Nx, Tx, My, Mz  #注意图示的方向"
   ]
  },
  {
   "cell_type": "markdown",
   "id": "4251fb52",
   "metadata": {},
   "source": [
    "# HW9.5"
   ]
  },
  {
   "cell_type": "code",
   "execution_count": null,
   "id": "1ed3c5b7",
   "metadata": {},
   "outputs": [],
   "source": [
    "from sympy import *\n",
    "\n",
    "a = 372; \n",
    "b = 245;\n",
    "c = 272;\n",
    "Pz = 435; \n",
    "Py = 426; \n",
    "p = 587;\n",
    "do = 95;\n",
    "di = 75;\n",
    "\n",
    "a = a/1000\n",
    "b = b/1000\n",
    "c = c/1000\n",
    "do = do/1000\n",
    "di = di/1000\n",
    "p = p*1000\n",
    "\n",
    "t = (do-di)/2\n",
    "A = pi/4*(do**2-di**2)\n",
    "J = pi/32*(do**4-di**4)\n",
    "I = pi/64*(do**4-di**4)\n",
    "Q = 1/12*(do**3-di**3)  #经过计算\n",
    "\n",
    "Fx = 0\n",
    "Fy = Py\n",
    "Fz = Pz\n",
    "\n",
    "Mx = Py*b + Pz*c\n",
    "My = Pz*a\n",
    "Mz = Py*a\n",
    "\n",
    "tau1 = Fy*Q/(I*2*t)\n",
    "tau2 = Mx*(do/2)/J\n",
    "\n",
    "sigma_x1 = -My*(do/2)/I\n",
    "sigma_long = p*di/(4*t)\n",
    "sigma_hoop = p*di/(2*t)\n",
    "\n",
    "sigma_x = sigma_x1 + sigma_long\n",
    "sigma_y = sigma_hoop\n",
    "tau = tau2 - tau1  #注意tau_xy的正方向，且只考虑xy平面里的切应力\n",
    "\n",
    "sigma_x.evalf()/10**6, sigma_y/10**6, tau.evalf()/10**6"
   ]
  },
  {
   "cell_type": "markdown",
   "id": "9c7ad031",
   "metadata": {},
   "source": [
    "# HW9.6"
   ]
  },
  {
   "cell_type": "code",
   "execution_count": 3,
   "id": "8998cb89",
   "metadata": {},
   "outputs": [
    {
     "data": {
      "text/plain": [
       "(3.11674319094039, 0.531975, -1.82800085326300)"
      ]
     },
     "execution_count": 3,
     "metadata": {},
     "output_type": "execute_result"
    }
   ],
   "source": [
    "from sympy import *\n",
    "\n",
    "a = 313; \n",
    "b = 243;\n",
    "c = 264;\n",
    "Pz = 325; \n",
    "Py = 444; \n",
    "p = 519;\n",
    "do = 81;\n",
    "di = 41;\n",
    "\n",
    "a = a/1000\n",
    "b = b/1000\n",
    "c = c/1000\n",
    "do = do/1000\n",
    "di = di/1000\n",
    "p = p*1000\n",
    "\n",
    "t = (do-di)/2\n",
    "A = pi/4*(do**2-di**2)\n",
    "J = pi/32*(do**4-di**4)\n",
    "I = pi/64*(do**4-di**4)\n",
    "Q = 1/12*(do**3-di**3)\n",
    "\n",
    "Fx = 0\n",
    "Fy = Py\n",
    "Fz = Pz\n",
    "\n",
    "Mx = Py*b + Pz*c\n",
    "My = Pz*a\n",
    "Mz = Py*a\n",
    "\n",
    "tau1 = Fz*Q/(I*2*t)\n",
    "tau2 = Mx*(do/2)/J\n",
    "\n",
    "sigma_x1 = Mz*(do/2)/I\n",
    "sigma_long = p*di/(4*t)\n",
    "sigma_hoop = p*di/(2*t)\n",
    "\n",
    "sigma_x = sigma_x1 + sigma_long\n",
    "sigma_y = sigma_hoop\n",
    "tau = tau1 - tau2\n",
    "\n",
    "sigma_x.evalf()/10**6, sigma_y/10**6, tau.evalf()/10**6"
   ]
  }
 ],
 "metadata": {
  "kernelspec": {
   "display_name": "Python 3 (ipykernel)",
   "language": "python",
   "name": "python3"
  },
  "language_info": {
   "codemirror_mode": {
    "name": "ipython",
    "version": 3
   },
   "file_extension": ".py",
   "mimetype": "text/x-python",
   "name": "python",
   "nbconvert_exporter": "python",
   "pygments_lexer": "ipython3",
   "version": "3.9.7"
  }
 },
 "nbformat": 4,
 "nbformat_minor": 5
}
