{
 "cells": [
  {
   "cell_type": "markdown",
   "metadata": {},
   "source": [
    "# HW5.1"
   ]
  },
  {
   "cell_type": "code",
   "execution_count": 1,
   "metadata": {},
   "outputs": [],
   "source": [
    "from numpy import *\n",
    "\n",
    "L = 1600 # mm\n",
    "r = 18 # mm\n",
    "G = 52 # GPa\n",
    "tu = 40 # MPa\n",
    "FS = 2\n",
    "\n",
    "L = L/10**3\n",
    "r = r/10**3\n",
    "G = 52*10**9\n",
    "tu = 40*10**6\n",
    "FS = 2\n",
    "\n",
    "ta = tu/FS\n",
    "J = pi/2*r**4\n",
    "T = ta*J/r\n",
    "T*L/(J*G)"
   ]
  },
  {
   "cell_type": "markdown",
   "metadata": {},
   "source": [
    "# HW5.2"
   ]
  },
  {
   "cell_type": "code",
   "execution_count": 1,
   "metadata": {},
   "outputs": [
    {
     "data": {
      "text/plain": [
       "4.134875846501129"
      ]
     },
     "execution_count": 1,
     "metadata": {},
     "output_type": "execute_result"
    }
   ],
   "source": [
    "L = 1772 # mm\n",
    "d = 34 # mm\n",
    "kt = 3 # kN.m\n",
    "T = 1293 # N.m\n",
    "\n",
    "L = L/10**3\n",
    "d = d/10**3\n",
    "kt = kt*10**3\n",
    "\n",
    "theta = T / kt\n",
    "r = d / 2\n",
    "ga = r*theta/L\n",
    "\n",
    "ga*1e3"
   ]
  },
  {
   "cell_type": "markdown",
   "metadata": {},
   "source": [
    "# HW5.3"
   ]
  },
  {
   "cell_type": "code",
   "execution_count": 7,
   "metadata": {},
   "outputs": [],
   "source": [
    "L = 1520 # mm\n",
    "di = 22 # mm\n",
    "do = 34 # mm\n",
    "G = 29 # GPa\n",
    "T = 1020 # N.m\n",
    "\n",
    "L = L/10**3\n",
    "ci = di/2 * 1e-3 \n",
    "co = do/2 * 1e-3\n",
    "G = G*1e9\n",
    "\n",
    "J = pi/2*(co**4-ci**4)\n",
    "phi = T*L/(J*G)\n",
    "phi*ci/L * 1e3"
   ]
  },
  {
   "cell_type": "markdown",
   "metadata": {},
   "source": [
    "# HW5.4\n"
   ]
  },
  {
   "cell_type": "code",
   "execution_count": 4,
   "metadata": {},
   "outputs": [
    {
     "data": {
      "text/plain": [
       "0.03384877461307519"
      ]
     },
     "execution_count": 4,
     "metadata": {},
     "output_type": "execute_result"
    }
   ],
   "source": [
    "from numpy import *\n",
    "\n",
    "L1 = 300 # mm\n",
    "L2 = 331 # mm\n",
    "d1 = 63 # mm\n",
    "d2 = 40 # mm\n",
    "G1 = 41 # GPa\n",
    "G2 = 39 # GPa\n",
    "TB = 674 # N.m\n",
    "TC = 962 # N.m\n",
    "\n",
    "\n",
    "L1, L2, d1, d2 = array([L1, L2, d1, d2]) * 1e-3\n",
    "G1 = G1*1e9\n",
    "G2 = G2*1e9\n",
    "c1 = d1/2\n",
    "c2 = d2/2\n",
    "\n",
    "J1 = pi/2*c1**4\n",
    "J2 = pi/2*c2**4\n",
    "\n",
    "ph1 = (TC-TB)*L1/(J1*G1)\n",
    "ph2 = TC*L2/(J2*G2)\n",
    "\n",
    "ph1 + ph2"
   ]
  },
  {
   "cell_type": "markdown",
   "metadata": {},
   "source": [
    "# HW5.5"
   ]
  },
  {
   "cell_type": "code",
   "execution_count": 5,
   "metadata": {},
   "outputs": [
    {
     "data": {
      "text/plain": [
       "56.20046825934698"
      ]
     },
     "execution_count": 5,
     "metadata": {},
     "output_type": "execute_result"
    }
   ],
   "source": [
    "L1 = 339 # mm\n",
    "L2 = 320 # mm\n",
    "d1 = 76 # mm\n",
    "d2 = 44 # mm\n",
    "G1 = 35 # GPa\n",
    "G2 = 42 # GPa\n",
    "TB = 700 # N.m\n",
    "TC = 940 # N.m\n",
    "\n",
    "L1 = L1/10**3\n",
    "L2 = L2/10**3\n",
    "d1 = d1/10**3\n",
    "d2 = d2/10**3\n",
    "G1 = G1*10**9\n",
    "G2 = G2*10**9\n",
    "\n",
    "c1 = d1/2\n",
    "c2 = d2/2\n",
    "\n",
    "J1 = pi/2*c1**4\n",
    "J2 = pi/2*c2**4\n",
    "\n",
    "tau1 = (TC-TB)*c1/J1 * 1e-6\n",
    "tau2 = TC*c2/J2 * 1e-6\n",
    "\n",
    "max(tau1, tau2)"
   ]
  },
  {
   "cell_type": "markdown",
   "metadata": {},
   "source": [
    "# HW5.6"
   ]
  },
  {
   "cell_type": "code",
   "execution_count": 6,
   "metadata": {},
   "outputs": [
    {
     "data": {
      "text/plain": [
       "14.224119884378622"
      ]
     },
     "execution_count": 6,
     "metadata": {},
     "output_type": "execute_result"
    }
   ],
   "source": [
    "d = 65 # mm\n",
    "TB = 1292 # N.m\n",
    "TC = 767 # N.m\n",
    "\n",
    "d = d/10**3\n",
    "co = d/2\n",
    "ci = d/4\n",
    "\n",
    "J1 = pi/2*(co**4-ci**4)\n",
    "J2 = pi/2*co**4\n",
    "\n",
    "tau1 = (TB-TC)*co/J1 / 10**6\n",
    "tau2 = TC*co/J2 / 10**6\n",
    "\n",
    "max(tau1, tau2)"
   ]
  },
  {
   "cell_type": "markdown",
   "metadata": {},
   "source": [
    "# HW5.7"
   ]
  },
  {
   "cell_type": "code",
   "execution_count": 3,
   "metadata": {},
   "outputs": [
    {
     "data": {
      "text/plain": [
       "0.018840152500000002"
      ]
     },
     "execution_count": 3,
     "metadata": {},
     "output_type": "execute_result"
    }
   ],
   "source": [
    "from numpy import *\n",
    "\n",
    "Rb = 99 # mm\n",
    "Rc = 40 # mm\n",
    "ft = 0.000004 # (1/N.m)\n",
    "TD = 661 # N.m\n",
    "\n",
    "Rb = Rb*1e-3\n",
    "Rc = Rc*1e-3\n",
    "\n",
    "TB = TD/Rc*Rb\n",
    "\n",
    "A1 = TB*ft\n",
    "A2 = A1*Rb/Rc + TD*ft\n",
    "\n",
    "A2"
   ]
  }
 ],
 "metadata": {
  "kernelspec": {
   "display_name": "Python 3 (ipykernel)",
   "language": "python",
   "name": "python3"
  },
  "language_info": {
   "codemirror_mode": {
    "name": "ipython",
    "version": 3
   },
   "file_extension": ".py",
   "mimetype": "text/x-python",
   "name": "python",
   "nbconvert_exporter": "python",
   "pygments_lexer": "ipython3",
   "version": "3.9.7"
  }
 },
 "nbformat": 4,
 "nbformat_minor": 2
}
