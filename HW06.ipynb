{
 "cells": [
  {
   "cell_type": "markdown",
   "id": "957011e2",
   "metadata": {},
   "source": [
    "# HW6.1"
   ]
  },
  {
   "cell_type": "code",
   "execution_count": 3,
   "id": "427e3979",
   "metadata": {},
   "outputs": [
    {
     "data": {
      "text/plain": [
       "23.173207185422868"
      ]
     },
     "execution_count": 3,
     "metadata": {},
     "output_type": "execute_result"
    }
   ],
   "source": [
    "from numpy import *\n",
    "\n",
    "R1 = 144 # mm\n",
    "R2 = 48 # mm\n",
    "d = 21 # mm\n",
    "TW = 4682 # N.mm\n",
    "\n",
    "c = d/2\n",
    "J = pi/2 * c**4\n",
    "T3 = TW*(R1/R2)**2\n",
    "T3*c/J"
   ]
  },
  {
   "cell_type": "markdown",
   "id": "c78e637b",
   "metadata": {},
   "source": [
    "# HW6.2 ★"
   ]
  },
  {
   "cell_type": "code",
   "execution_count": null,
   "id": "2c34ac12",
   "metadata": {},
   "outputs": [],
   "source": [
    "d = 31 # mm\n",
    "R1 = 92 # mm\n",
    "R2 = 46 # mm\n",
    "G = 78 # GPa\n",
    "L = 124 # mm\n",
    "TE = 479 # N.m\n",
    "\n",
    "J = pi/32 * d**4\n",
    "\n",
    "TG = TE * R2/R1\n",
    "TK = TG * R2/R1\n",
    "\n",
    "A3 = TK*L/(J*G)  # superposition\n",
    "A2 = A3*R2/R1 + TG*L/(J*G)\n",
    "A2*R2/R1 + TE*L/(J*G)"
   ]
  },
  {
   "cell_type": "markdown",
   "id": "b072a153",
   "metadata": {},
   "source": [
    "# HW6.3"
   ]
  },
  {
   "cell_type": "code",
   "execution_count": 1,
   "id": "865b7bc1",
   "metadata": {},
   "outputs": [
    {
     "data": {
      "text/plain": [
       "2.9474365981373567"
      ]
     },
     "execution_count": 1,
     "metadata": {},
     "output_type": "execute_result"
    }
   ],
   "source": [
    "from numpy import *\n",
    "\n",
    "di = 29 # mm\n",
    "TB = 1420 # N.m\n",
    "TC = 405 # N.m\n",
    "G = 115 # MPa\n",
    "L = 1345 # mm\n",
    "tauMax = 15 # MPa\n",
    "\n",
    "T1 = TB - TC # direction\n",
    "T2 = -TC\n",
    "\n",
    "do = (T1/(tauMax*pi/2))**(1/3)*2 * 10 #unit\n",
    "\n",
    "J1 = pi/32 * do**4\n",
    "A1 = T1*L/(J1*G) * 10**3\n",
    "J2 = pi/32 * (do**4-di**4)\n",
    "A2 = T2*L/(J2*G) * 10**3\n",
    "A1+A2"
   ]
  },
  {
   "cell_type": "markdown",
   "id": "5ffde162",
   "metadata": {},
   "source": [
    "# HW6.4"
   ]
  },
  {
   "cell_type": "code",
   "execution_count": 2,
   "id": "12c52f34",
   "metadata": {},
   "outputs": [
    {
     "data": {
      "text/latex": [
       "$\\displaystyle 0.00348903865252449$"
      ],
      "text/plain": [
       "0.00348903865252449"
      ]
     },
     "execution_count": 2,
     "metadata": {},
     "output_type": "execute_result"
    }
   ],
   "source": [
    "from sympy import *\n",
    "\n",
    "d = 51 # mm\n",
    "L = 180 # mm\n",
    "G = 53 # GPa\n",
    "TB = 1322 # N.m\n",
    "\n",
    "J1 = pi/32 * (d**4 - (d/2)**4)\n",
    "J2 = pi/32 * d**4\n",
    "\n",
    "T1, T2 = symbols('T1, T2')\n",
    "eqn1 = T1/J1 - T2/J2\n",
    "eqn2 = T1 + T2 - TB\n",
    "t1 = solve((eqn1, eqn2))[T1]\n",
    "\n",
    "(t1*L/(J1*G)).evalf()"
   ]
  },
  {
   "cell_type": "markdown",
   "id": "00bf6b65",
   "metadata": {},
   "source": [
    "# HW6.5 ★"
   ]
  },
  {
   "cell_type": "code",
   "execution_count": 3,
   "id": "6dbf3902",
   "metadata": {},
   "outputs": [
    {
     "data": {
      "text/latex": [
       "$\\displaystyle 12.4359135795207$"
      ],
      "text/plain": [
       "12.4359135795207"
      ]
     },
     "execution_count": 3,
     "metadata": {},
     "output_type": "execute_result"
    }
   ],
   "source": [
    "from sympy import *\n",
    "\n",
    "L1 = 205 # mm\n",
    "L2 = 765 # mm\n",
    "L3 = 204 # mm\n",
    "d1 = 40 # mm\n",
    "d2 = 58 # mm\n",
    "G = 67 # GPa\n",
    "Tb = 1380 # N.m\n",
    "Tc = 1247 # N.m\n",
    "\n",
    "J1 = pi/32 * d1**4\n",
    "J2 = pi/32 * d2**4\n",
    "J3 = pi/32 * (d2**4 - d1**4)\n",
    "\n",
    "TA = symbols('TA')\n",
    "\n",
    "A1 = Ta*L1/(J1*G)\n",
    "A2 = (Ta-Tb)*L2/(J2*G)\n",
    "A3 = (Ta-Tb-Tc)*L3/(J3*G)\n",
    "eqn = A1 + A2 + A3\n",
    "\n",
    "T = solve(eqn)[0].evalf()\n",
    "((Tb - T)*(d2/2)/J2 * 10**3).evalf()"
   ]
  },
  {
   "cell_type": "markdown",
   "id": "4b1cde29",
   "metadata": {},
   "source": [
    "# HW6.6"
   ]
  },
  {
   "cell_type": "code",
   "execution_count": null,
   "id": "fbf60028",
   "metadata": {},
   "outputs": [],
   "source": [
    "L = 46 # in\n",
    "Ga = 4000 # ksi\n",
    "Gs = 11000 # ksi\n",
    "da = 6 # in\n",
    "ds = 5 # in\n",
    "Tb = 1 # kip.in\n",
    "\n",
    "Js = pi/32 * ds**4\n",
    "Ja = pi/32 * (da**4 - ds**4)\n",
    "\n",
    "# As = Aa = AB 角度相等\n",
    "Ta, Ts = symbols('Ta, Ts')\n",
    "eqn1 = Ta + Ts - Tb\n",
    "eqn2 = Ta/(Ja*Ga) - Ts/(Js*Gs)\n",
    "TA = solve((eqn1, eqn2))[Ta]\n",
    "\n",
    "(TA*L/(Ja*Ga)).evalf()"
   ]
  },
  {
   "cell_type": "markdown",
   "id": "f17735b6",
   "metadata": {},
   "source": [
    "# HW6.7"
   ]
  },
  {
   "cell_type": "code",
   "execution_count": 8,
   "id": "f7704023",
   "metadata": {},
   "outputs": [
    {
     "data": {
      "text/latex": [
       "$\\displaystyle 0.175493174866584$"
      ],
      "text/plain": [
       "0.175493174866584"
      ]
     },
     "execution_count": 8,
     "metadata": {},
     "output_type": "execute_result"
    }
   ],
   "source": [
    "L = 47 # in\n",
    "Ga = 3000 # ksi\n",
    "Gs = 12000 # ksi\n",
    "da = 5 # in\n",
    "ds = 4 # in\n",
    "Tb = 3 # kip.in\n",
    "\n",
    "Js = pi/32 * ds**4\n",
    "Ja = pi/32 * (da**4 - ds**4)\n",
    "\n",
    "# As = Aa = AB 角度相等\n",
    "Ta, Ts = symbols('Ta, Ts')\n",
    "eqn1 = Ta + Ts - Tb\n",
    "eqn2 = Ta/(Ja*Ga) - Ts/(Js*Gs)\n",
    "TS = solve((eqn1, eqn2))[Ts]\n",
    "\n",
    "((TS*ds/2)/Js).evalf()"
   ]
  },
  {
   "cell_type": "code",
   "execution_count": null,
   "id": "692f3dba",
   "metadata": {},
   "outputs": [],
   "source": []
  }
 ],
 "metadata": {
  "kernelspec": {
   "display_name": "Python 3 (ipykernel)",
   "language": "python",
   "name": "python3"
  },
  "language_info": {
   "codemirror_mode": {
    "name": "ipython",
    "version": 3
   },
   "file_extension": ".py",
   "mimetype": "text/x-python",
   "name": "python",
   "nbconvert_exporter": "python",
   "pygments_lexer": "ipython3",
   "version": "3.9.10+"
  }
 },
 "nbformat": 4,
 "nbformat_minor": 5
}
