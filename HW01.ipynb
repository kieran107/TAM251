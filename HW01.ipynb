{
 "cells": [
  {
   "cell_type": "markdown",
   "id": "dd94417b",
   "metadata": {},
   "source": [
    "# HW1.1"
   ]
  },
  {
   "cell_type": "markdown",
   "id": "d4a151ab",
   "metadata": {},
   "source": [
    "* $ k = kilo = 10 ^ 3$\n",
    "\n",
    "* $ M = mega = 10 ^ 6$\n",
    "\n",
    "* $ G = giga = 10 ^ 9$\n",
    "\n",
    "* $ T = tera = 10^{12}$"
   ]
  },
  {
   "cell_type": "markdown",
   "id": "482a4d39",
   "metadata": {},
   "source": [
    "# HW1.2"
   ]
  },
  {
   "cell_type": "code",
   "execution_count": 2,
   "id": "2da0a841",
   "metadata": {},
   "outputs": [
    {
     "data": {
      "text/plain": [
       "491.19913922739875"
      ]
     },
     "execution_count": 2,
     "metadata": {},
     "output_type": "execute_result"
    }
   ],
   "source": [
    "from numpy import *\n",
    "\n",
    "b = 2 # in\n",
    "h = 6 # in\n",
    "sigma = 2 # psi\n",
    "tau = 7 # psi\n",
    "alpha = 10 # degrees\n",
    "\n",
    "alpha = radians(alpha)\n",
    "A = h*b / sin(alpha)\n",
    "\n",
    "P1 = sigma*A / sin(alpha) \n",
    "P2 = tau*A / cos(alpha)\n",
    "\n",
    "min(P1, P2)"
   ]
  },
  {
   "cell_type": "markdown",
   "id": "a9282379",
   "metadata": {},
   "source": [
    "# HW1.3"
   ]
  },
  {
   "cell_type": "code",
   "execution_count": 4,
   "id": "83cf4abc",
   "metadata": {},
   "outputs": [
    {
     "data": {
      "text/plain": [
       "(122.95081967213115, 654.6762589928057)"
      ]
     },
     "execution_count": 4,
     "metadata": {},
     "output_type": "execute_result"
    }
   ],
   "source": [
    "from numpy import *\n",
    "\n",
    "A1 = 244 # mm^2\n",
    "A2 = 139 # mm^2\n",
    "P1 = 61 # kN\n",
    "P2 = 91 # kN\n",
    "\n",
    "s1 = (P2 - P1) / A1   # +/-\n",
    "s2 = P2 / A2\n",
    "\n",
    "s1*1e3, s2*1e3"
   ]
  },
  {
   "cell_type": "markdown",
   "id": "49e16758",
   "metadata": {},
   "source": [
    "# HW1.4"
   ]
  },
  {
   "cell_type": "code",
   "execution_count": 7,
   "id": "022076ff",
   "metadata": {},
   "outputs": [
    {
     "data": {
      "text/plain": [
       "13.661333333333332"
      ]
     },
     "execution_count": 7,
     "metadata": {},
     "output_type": "execute_result"
    }
   ],
   "source": [
    "from numpy import *\n",
    "\n",
    "A = 218 # mm^2\n",
    "sigma = 188 # MPa\n",
    "\n",
    "FS = 3\n",
    "s = sigma / FS\n",
    "\n",
    "A*s*1e-3"
   ]
  },
  {
   "cell_type": "markdown",
   "id": "1f1f0658",
   "metadata": {},
   "source": [
    "# HW1.5"
   ]
  },
  {
   "cell_type": "code",
   "execution_count": 9,
   "id": "6f51fcc7",
   "metadata": {},
   "outputs": [
    {
     "data": {
      "text/plain": [
       "(-1.8108295747344538, -1.3581221810508401)"
      ]
     },
     "execution_count": 9,
     "metadata": {},
     "output_type": "execute_result"
    }
   ],
   "source": [
    "from numpy import *\n",
    "\n",
    "d = 75 # mm\n",
    "P = 6 # kN\n",
    "\n",
    "A2 = pi/4*d**2\n",
    "A1 = 3/4*A2\n",
    "\n",
    "s1 = -P/A1 # +/-\n",
    "s2 = -P/A2\n",
    "\n",
    "s1*1e3, s2*1e3"
   ]
  },
  {
   "cell_type": "markdown",
   "id": "570eaf67",
   "metadata": {},
   "source": [
    "# HW1.6"
   ]
  },
  {
   "cell_type": "code",
   "execution_count": 10,
   "id": "00ce965b",
   "metadata": {},
   "outputs": [
    {
     "data": {
      "text/plain": [
       "-5.457479119210327"
      ]
     },
     "execution_count": 10,
     "metadata": {},
     "output_type": "execute_result"
    }
   ],
   "source": [
    "from numpy import *\n",
    "\n",
    "A = 3512 # mm^2\n",
    "P = 23 # kN\n",
    "\n",
    "F = P/2 /3*5\n",
    "-F/A *1e3 "
   ]
  },
  {
   "cell_type": "markdown",
   "id": "0456b24c",
   "metadata": {},
   "source": [
    "# HW1.7"
   ]
  },
  {
   "cell_type": "code",
   "execution_count": 11,
   "id": "563eb391",
   "metadata": {},
   "outputs": [
    {
     "data": {
      "text/plain": [
       "241.52809417822613"
      ]
     },
     "execution_count": 11,
     "metadata": {},
     "output_type": "execute_result"
    }
   ],
   "source": [
    "from numpy import *\n",
    "\n",
    "a = 330 # mm\n",
    "b = 274 # mm\n",
    "c = 178 # mm\n",
    "d = 352 # mm\n",
    "e = 286 # mm\n",
    "P1 = 89 # kN\n",
    "P2 = 89 # kN\n",
    "theta = 18 # degrees\n",
    "dab = 22 # mm\n",
    "\n",
    "theta = radians(theta)\n",
    "\n",
    "Fx = (P1*b + P2*(b+c)) / (e + d + a*sin(theta)) \n",
    "F = Fx / cos(theta)\n",
    "\n",
    "A = pi/4*dab**2\n",
    "\n",
    "F/A*1e3"
   ]
  },
  {
   "cell_type": "markdown",
   "id": "d12223b5",
   "metadata": {},
   "source": [
    "# HW1.8"
   ]
  },
  {
   "cell_type": "code",
   "execution_count": 22,
   "id": "d471cd8e",
   "metadata": {},
   "outputs": [
    {
     "data": {
      "text/plain": [
       "102.38639251595421"
      ]
     },
     "execution_count": 22,
     "metadata": {},
     "output_type": "execute_result"
    }
   ],
   "source": [
    "from numpy import *\n",
    "\n",
    "a = 612 # mm\n",
    "b = 76 # mm\n",
    "c = 459 # mm\n",
    "d = 153 # mm\n",
    "L = 1530 # mm\n",
    "w = 6 # kN/m\n",
    "Ac = 50 # mm^2\n",
    "\n",
    "Ey = (L*w/2 * L/3) / (a + b)\n",
    "E = Ey / (c+d) * sqrt((c+d)**2 + (a+b)**2)\n",
    "\n",
    "E/Ac # single or double"
   ]
  },
  {
   "cell_type": "markdown",
   "id": "9fb3ce16",
   "metadata": {},
   "source": [
    "# HW1.9"
   ]
  },
  {
   "cell_type": "code",
   "execution_count": 23,
   "id": "33ab2048",
   "metadata": {},
   "outputs": [
    {
     "data": {
      "text/plain": [
       "61.1154981472878"
      ]
     },
     "execution_count": 23,
     "metadata": {},
     "output_type": "execute_result"
    }
   ],
   "source": [
    "from numpy import *\n",
    "\n",
    "W = 6 # kN\n",
    "a = 5 # m\n",
    "b = 4 # m\n",
    "d = 10 # mm\n",
    "theta = 42 # degrees\n",
    "\n",
    "Ay = W*b / a\n",
    "A = pi/4 *d** 2\n",
    "Ay/A*1e3"
   ]
  }
 ],
 "metadata": {
  "kernelspec": {
   "display_name": "Python 3 (ipykernel)",
   "language": "python",
   "name": "python3"
  },
  "language_info": {
   "codemirror_mode": {
    "name": "ipython",
    "version": 3
   },
   "file_extension": ".py",
   "mimetype": "text/x-python",
   "name": "python",
   "nbconvert_exporter": "python",
   "pygments_lexer": "ipython3",
   "version": "3.9.7"
  }
 },
 "nbformat": 4,
 "nbformat_minor": 5
}
