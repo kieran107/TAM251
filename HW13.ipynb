{
 "cells": [
  {
   "cell_type": "code",
   "execution_count": 7,
   "id": "ac614124",
   "metadata": {
    "scrolled": true
   },
   "outputs": [
    {
     "data": {
      "text/plain": [
       "(1.3354361999999997e-11,\n",
       " 10.413682593938054,\n",
       " 2.6034206484845135,\n",
       " 21.252413457016434,\n",
       " 41.654730375752216)"
      ]
     },
     "execution_count": 7,
     "metadata": {},
     "output_type": "execute_result"
    }
   ],
   "source": [
    "from numpy import *\n",
    "\n",
    "E = 174 # MPa\n",
    "L = 1484 # mm\n",
    "t = 21 # mm\n",
    "a = 42 # mm\n",
    "b = 105 # mm\n",
    "\n",
    "E = E*1e6\n",
    "L = L*1e-3\n",
    "t = t*1e-3\n",
    "a = a*1e-3\n",
    "b = b*1e-3\n",
    "\n",
    "I = 1/12*b*(2*t+2*a)**3 - 1/12*(b-t)*(2*a)**3\n",
    "\n",
    "L1 = L\n",
    "L2 = 2*L\n",
    "L3 = 0.7*L\n",
    "L4 = 0.5*L\n",
    "\n",
    "P1 = pi**2*E*I/L1**2*1e-3\n",
    "P2 = pi**2*E*I/L2**2*1e-3\n",
    "P3 = pi**2*E*I/L3**2*1e-3\n",
    "P4 = pi**2*E*I/L4**2*1e-3\n",
    "\n",
    "I*1e-6, P1, P2, P3, P4"
   ]
  },
  {
   "cell_type": "code",
   "execution_count": 9,
   "id": "170ac32d",
   "metadata": {},
   "outputs": [
    {
     "data": {
      "text/latex": [
       "$\\displaystyle 52.6160746146552$"
      ],
      "text/plain": [
       "52.6160746146552"
      ]
     },
     "execution_count": 9,
     "metadata": {},
     "output_type": "execute_result"
    }
   ],
   "source": [
    "from sympy import *\n",
    "import numpy as np\n",
    "\n",
    "L = 1047 # mm\n",
    "a = 659 # mm\n",
    "b = 549 # mm\n",
    "E = 175 # GPa\n",
    "d = 27 # mm\n",
    "theta = 34 # degrees\n",
    "\n",
    "E = E*1e9\n",
    "L = L*1e-3\n",
    "d = d*1e-3\n",
    "a = a*1e-3\n",
    "b = b*1e-3\n",
    "\n",
    "t = np.radians(theta)\n",
    "P = symbols('P')\n",
    "I = pi/4*(d/2)**4\n",
    "\n",
    "F = P*L/a/sin(t)\n",
    "eqn = F - pi**2*E*I/b**2\n",
    "\n",
    "solve(eqn)[0]*1e-3"
   ]
  },
  {
   "cell_type": "code",
   "execution_count": 15,
   "id": "93376310",
   "metadata": {},
   "outputs": [
    {
     "data": {
      "text/latex": [
       "$\\displaystyle 0.00882772850817423$"
      ],
      "text/plain": [
       "0.00882772850817423"
      ]
     },
     "execution_count": 15,
     "metadata": {},
     "output_type": "execute_result"
    }
   ],
   "source": [
    "import numpy as np\n",
    "\n",
    "P = 534 # N\n",
    "L = 1.159 # m\n",
    "E = 190 # GPa\n",
    "FS = 2.7\n",
    "\n",
    "E = E*1e9\n",
    "s = symbols('s')\n",
    "I = 1/12*s**4\n",
    "\n",
    "F = pi**2*E*I/(0.7*L)**2\n",
    "eqn = F/FS - P\n",
    "\n",
    "solve(eqn)[1]"
   ]
  },
  {
   "cell_type": "code",
   "execution_count": null,
   "id": "ef174b0d",
   "metadata": {},
   "outputs": [],
   "source": []
  }
 ],
 "metadata": {
  "kernelspec": {
   "display_name": "Python 3 (ipykernel)",
   "language": "python",
   "name": "python3"
  },
  "language_info": {
   "codemirror_mode": {
    "name": "ipython",
    "version": 3
   },
   "file_extension": ".py",
   "mimetype": "text/x-python",
   "name": "python",
   "nbconvert_exporter": "python",
   "pygments_lexer": "ipython3",
   "version": "3.9.7"
  }
 },
 "nbformat": 4,
 "nbformat_minor": 5
}
