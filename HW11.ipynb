{
 "cells": [
  {
   "cell_type": "markdown",
   "id": "f5995120",
   "metadata": {},
   "source": [
    "# HW11.3"
   ]
  },
  {
   "cell_type": "code",
   "execution_count": 1,
   "id": "3caf622d",
   "metadata": {
    "scrolled": false
   },
   "outputs": [
    {
     "data": {
      "image/png": "[encoded data removed]",
      "text/latex": [
       "$\\displaystyle \\left( - 0.000238231370306842 x^{3} + 0.00414522584333905 x^{2}, \\  0.0230131503716409 x - 0.0396893462931199\\right)$"
      ],
      "text/plain": [
       "⎛                        3                        2                           \n",
       "⎝- 0.000238231370306842⋅x  + 0.00414522584333905⋅x , 0.0230131503716409⋅x - 0.\n",
       "\n",
       "                ⎞\n",
       "0396893462931199⎠"
      ]
     },
     "execution_count": 1,
     "metadata": {},
     "output_type": "execute_result"
    }
   ],
   "source": [
    "from sympy import *\n",
    "init_printing()\n",
    "\n",
    "P = 10 # kN\n",
    "M = 12 # kN.m\n",
    "L = 7 # m\n",
    "E = 159 # GPa\n",
    "Iz = 0.000044 # m^4\n",
    "\n",
    "P = P*1e3\n",
    "M = M*1e3\n",
    "E = E*1e9\n",
    "EI = E*Iz\n",
    "\n",
    "x = symbols('x')\n",
    "y1 = P*x**2*(3*L-x)/(6*EI) - M*x**2/(2*EI)\n",
    "\n",
    "yB = y1.subs(x, L)\n",
    "tB = P*L**2/(2*EI) - M*L/EI\n",
    "\n",
    "y2 = yB + tB*(x-L) # use approximation\n",
    "\n",
    "expand(y1), expand(y2)"
   ]
  },
  {
   "cell_type": "markdown",
   "id": "7c27ba20",
   "metadata": {},
   "source": [
    "# HW11.4"
   ]
  },
  {
   "cell_type": "code",
   "execution_count": 3,
   "id": "8a14ed34",
   "metadata": {},
   "outputs": [
    {
     "data": {
      "text/latex": [
       "$\\displaystyle - \\frac{x^{3}}{12} + 2 x^{2} - 12 x + \\frac{32}{3}$"
      ],
      "text/plain": [
       "-x**3/12 + 2*x**2 - 12*x + 32/3"
      ]
     },
     "execution_count": 3,
     "metadata": {},
     "output_type": "execute_result"
    }
   ],
   "source": [
    "from sympy import *\n",
    "\n",
    "L = 8\n",
    "x = symbols('x')\n",
    "\n",
    "def y1(t):\n",
    "    y1 = -L**2*t/16 + t**3/12\n",
    "    return y1\n",
    "\n",
    "expand(y1(L-x))  # use symmetry"
   ]
  },
  {
   "cell_type": "markdown",
   "id": "04b5ee18",
   "metadata": {},
   "source": [
    "# HW11.5"
   ]
  },
  {
   "cell_type": "code",
   "execution_count": 52,
   "id": "dbee9798",
   "metadata": {},
   "outputs": [
    {
     "data": {
      "image/png": "[encoded data removed]",
      "text/latex": [
       "$\\displaystyle - 0.0416666666666667 x^{4} + 1.16666666666667 x^{3} - 12.25 x^{2} + 7.14583333333333 x - 6.25260416666666$"
      ],
      "text/plain": [
       "                      4                     3          2                      \n",
       "- 0.0416666666666667⋅x  + 1.16666666666667⋅x  - 12.25⋅x  + 7.14583333333333⋅x \n",
       "\n",
       "                  \n",
       "- 6.25260416666666"
      ]
     },
     "execution_count": 52,
     "metadata": {},
     "output_type": "execute_result"
    }
   ],
   "source": [
    "from sympy import *\n",
    "\n",
    "L = 7\n",
    "x = symbols('x')\n",
    "\n",
    "y1 = -3*L**2*x**2/16 + L*x**3/12\n",
    "\n",
    "yB = y1.subs(x, L/2)\n",
    "tB = y1.diff(x).subs(x, L/2)  # use derivative\n",
    "\n",
    "yBC = -(x-L/2)**2*((x-L/2)**2-4*L/2*(x-L/2)+6*(L/2)**2)/24\n",
    "y2 = yB + tB*(x-L/2) + yBC \n",
    "\n",
    "expand(y2)"
   ]
  },
  {
   "cell_type": "markdown",
   "id": "259b0fc0",
   "metadata": {},
   "source": [
    "# HW11.6"
   ]
  },
  {
   "cell_type": "code",
   "execution_count": 4,
   "id": "e885b540",
   "metadata": {},
   "outputs": [
    {
     "data": {
      "image/png": "[encoded data removed]",
      "text/latex": [
       "$\\displaystyle \\left( -12.1408238695639, \\  -0.00346880681987541\\right)$"
      ],
      "text/plain": [
       "(-12.140823869563915, -0.003468806819875405)"
      ]
     },
     "execution_count": 4,
     "metadata": {},
     "output_type": "execute_result"
    }
   ],
   "source": [
    "from sympy import *\n",
    "\n",
    "P = 19 # kN\n",
    "L = 7 # m\n",
    "E = 211 # GPa\n",
    "Iz = 0.000053 # m^4\n",
    "\n",
    "E = E*1e9\n",
    "P = P*1e3\n",
    "w = P/L\n",
    "EI = E*Iz\n",
    "\n",
    "yC = -w*L**4/(8*EI) + 5*P*L**3/(48*EI)\n",
    "tC = -w*L**3/(6*EI) + P*L**2/(8*EI)\n",
    "\n",
    "yC*1e3, tC"
   ]
  },
  {
   "cell_type": "markdown",
   "id": "6ab528da",
   "metadata": {},
   "source": [
    "# HW11.7"
   ]
  },
  {
   "cell_type": "code",
   "execution_count": 6,
   "id": "c9ca2517",
   "metadata": {},
   "outputs": [
    {
     "data": {
      "image/png": "[encoded data removed]",
      "text/latex": [
       "$\\displaystyle 407.871198568873$"
      ],
      "text/plain": [
       "407.871198568873"
      ]
     },
     "execution_count": 6,
     "metadata": {},
     "output_type": "execute_result"
    }
   ],
   "source": [
    "from sympy import *\n",
    "\n",
    "w = 6 # kN/m\n",
    "L = 8 # m\n",
    "E = 172 # GPa\n",
    "Iz = 0.000052 # m^4\n",
    "\n",
    "w = w*1e3\n",
    "E = E*1e9\n",
    "M = w*L**2/12\n",
    "EI = E*Iz\n",
    "\n",
    "# subtraction\n",
    "yC = -w*L**4/(8*EI) + 7*w*L**4/(384*EI) - M*L**2/(2*EI)\n",
    "\n",
    "abs(yC)*1e3"
   ]
  },
  {
   "cell_type": "markdown",
   "id": "8719a1a1",
   "metadata": {},
   "source": [
    "# HW11.8"
   ]
  },
  {
   "cell_type": "code",
   "execution_count": 7,
   "id": "bcb0754f",
   "metadata": {},
   "outputs": [
    {
     "data": {
      "image/png": "[encoded data removed]",
      "text/latex": [
       "$\\displaystyle 2.19333267946301$"
      ],
      "text/plain": [
       "2.193332679463012"
      ]
     },
     "execution_count": 7,
     "metadata": {},
     "output_type": "execute_result"
    }
   ],
   "source": [
    "from sympy import *\n",
    "\n",
    "P = 5 # kN\n",
    "E = 203 # GPa\n",
    "A = 181 # mm^2\n",
    "L = 6 # m\n",
    "H = 3 # m\n",
    "Iz = 53000000 # mm^4\n",
    "\n",
    "P = P*1e3\n",
    "E = E*1e9\n",
    "A = A*1e-6\n",
    "Iz = Iz*1e-12\n",
    "EI = E*Iz\n",
    "\n",
    "yC = -P/2*H/(A*E)\n",
    "yB1 = yC/2\n",
    "yB2 = -P*L**3/(48*EI)\n",
    "\n",
    "yB = yB1 + yB2\n",
    "abs(yB)*1e3"
   ]
  },
  {
   "cell_type": "markdown",
   "id": "9e55a39e",
   "metadata": {},
   "source": [
    "# HW11.9"
   ]
  },
  {
   "cell_type": "code",
   "execution_count": null,
   "id": "f370050c",
   "metadata": {},
   "outputs": [],
   "source": [
    "from sympy import *\n",
    "\n",
    "w = 6 # kN/m\n",
    "L = 8 # m\n",
    "E = 250 # GPa\n",
    "Iz = 0.000055 # m^4\n",
    "\n",
    "w = w*1e3\n",
    "E = E*1e9\n",
    "M = w*L**2/24\n",
    "EI = E*Iz\n",
    "\n",
    "yC = -7*w*L**4/(384*EI) + M*L**2/(2*EI)\n",
    "tC = -w*L**3/(48*EI) + M*L/EI\n",
    "\n",
    "yC*1e3, tC"
   ]
  }
 ],
 "metadata": {
  "kernelspec": {
   "display_name": "Python 3 (ipykernel)",
   "language": "python",
   "name": "python3"
  },
  "language_info": {
   "codemirror_mode": {
    "name": "ipython",
    "version": 3
   },
   "file_extension": ".py",
   "mimetype": "text/x-python",
   "name": "python",
   "nbconvert_exporter": "python",
   "pygments_lexer": "ipython3",
   "version": "3.9.7"
  }
 },
 "nbformat": 4,
 "nbformat_minor": 5
}
