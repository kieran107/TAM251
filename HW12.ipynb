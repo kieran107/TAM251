{
 "cells": [
  {
   "cell_type": "markdown",
   "id": "68114de4",
   "metadata": {},
   "source": [
    "# HW12.1"
   ]
  },
  {
   "cell_type": "code",
   "execution_count": 1,
   "id": "0d6309de",
   "metadata": {},
   "outputs": [
    {
     "data": {
      "text/plain": [
       "{MC: 6510.41666666649, RC: 4687.49999999994}"
      ]
     },
     "execution_count": 1,
     "metadata": {},
     "output_type": "execute_result"
    }
   ],
   "source": [
    "from sympy import *\n",
    "\n",
    "L = 5 # m\n",
    "E = 179 # GPa\n",
    "Iz = 0.000048 # m^4\n",
    "w = 10 # kN/m\n",
    "\n",
    "E = E*1e9\n",
    "w = w*1e3\n",
    "EI = E*Iz\n",
    "RC, MC = symbols('RC, MC')\n",
    "\n",
    "eqn1 = -7*w*L**4/(384*EI) + RC*L**3/(3*EI) - MC*L**2/(2*EI)\n",
    "eqn2 = -w*L**3/(48*EI) + RC*L**2/(2*EI) - MC*L/EI\n",
    "solve((eqn1, eqn2))"
   ]
  },
  {
   "cell_type": "markdown",
   "id": "96efbb71",
   "metadata": {},
   "source": [
    "# HW12.2"
   ]
  },
  {
   "cell_type": "code",
   "execution_count": 7,
   "id": "c6a40030",
   "metadata": {},
   "outputs": [
    {
     "data": {
      "text/plain": [
       "[21.8750000000000]"
      ]
     },
     "execution_count": 7,
     "metadata": {},
     "output_type": "execute_result"
    }
   ],
   "source": [
    "from sympy import *\n",
    "\n",
    "L = 5 # m\n",
    "E = 163 # GPa\n",
    "Iz = 0.000040 # m^4\n",
    "w = 7 # kN/m\n",
    "\n",
    "EI = E*Iz\n",
    "RB = symbols('RB')\n",
    "\n",
    "eqn = RB*L**3/(48*EI) - 5*w*L**4/(384*EI)\n",
    "solve(eqn)"
   ]
  },
  {
   "cell_type": "markdown",
   "id": "d74f14d8",
   "metadata": {},
   "source": [
    "# HW12.3"
   ]
  },
  {
   "cell_type": "code",
   "execution_count": 15,
   "id": "da986eea",
   "metadata": {},
   "outputs": [
    {
     "data": {
      "text/plain": [
       "[105/32]"
      ]
     },
     "execution_count": 15,
     "metadata": {},
     "output_type": "execute_result"
    }
   ],
   "source": [
    "from sympy import *\n",
    "\n",
    "L = 5 # m\n",
    "w = 12 # kN/m\n",
    "\n",
    "EI, RC = symbols('EI, RC')\n",
    "\n",
    "eqn = -7*w*L**4/(384*EI) + RC*L**3/(3*EI)\n",
    "solve(eqn, RC)"
   ]
  },
  {
   "cell_type": "markdown",
   "id": "8064e2e1",
   "metadata": {},
   "source": [
    "# HW12.4"
   ]
  },
  {
   "cell_type": "code",
   "execution_count": 3,
   "id": "585d6dbc",
   "metadata": {},
   "outputs": [
    {
     "data": {
      "text/latex": [
       "$\\displaystyle 3.90971735093871$"
      ],
      "text/plain": [
       "3.90971735093871"
      ]
     },
     "execution_count": 3,
     "metadata": {},
     "output_type": "execute_result"
    }
   ],
   "source": [
    "from sympy import *\n",
    "\n",
    "L = 8 # m\n",
    "H = 4 # m\n",
    "E = 201 # GPa\n",
    "Iz = 57000000 # mm^4\n",
    "w = 9 # kN/m\n",
    "A = 188 # mm^2\n",
    "\n",
    "E = E*1e9\n",
    "Iz = Iz*1e-12\n",
    "w = w*1e3\n",
    "A = A*1e-6\n",
    "EI = E*Iz\n",
    "T = symbols('T')\n",
    "\n",
    "yC1 = -T*H/(A*E)  # negative \n",
    "yC2 = -7*w*L**4/(384*EI) + T*L**3/(3*EI)\n",
    "\n",
    "eqn = yC1 - yC2\n",
    "solve(eqn)[0]*1e-3"
   ]
  },
  {
   "cell_type": "markdown",
   "id": "258cc275",
   "metadata": {},
   "source": [
    "# HW12.5"
   ]
  },
  {
   "cell_type": "code",
   "execution_count": null,
   "id": "6f5714e8",
   "metadata": {},
   "outputs": [],
   "source": [
    "from sympy import *\n",
    "\n",
    "P = 57 # kN\n",
    "L = 1595 # mm\n",
    "delta = 3 # mm\n",
    "E = 140 # GPa\n",
    "Iz = 130686600 # mm^4\n",
    "\n",
    "P = P*1e3\n",
    "L = 2*L*1e-3\n",
    "delta = delta*1e-3\n",
    "E = E*1e9\n",
    "Iz = Iz*1e-12\n",
    "EI = E*Iz\n",
    "F = symbols('F')\n",
    "\n",
    "eqn = - 5*P*L**3/(48*EI) + F*L**3/(3*EI) + delta\n",
    "solve(eqn)[0]*1e-3"
   ]
  },
  {
   "cell_type": "markdown",
   "id": "d78e81db",
   "metadata": {},
   "source": [
    "# HW12.6"
   ]
  },
  {
   "cell_type": "code",
   "execution_count": 44,
   "id": "93a5f780",
   "metadata": {},
   "outputs": [
    {
     "data": {
      "text/latex": [
       "$\\displaystyle 16.1931496592385$"
      ],
      "text/plain": [
       "16.1931496592385"
      ]
     },
     "execution_count": 44,
     "metadata": {},
     "output_type": "execute_result"
    }
   ],
   "source": [
    "from sympy import *\n",
    "\n",
    "M = 63 # kN.m\n",
    "L = 1844 # mm\n",
    "delta = 3 # mm\n",
    "E = 152 # GPa\n",
    "Iz = 110905280 # mm^4\n",
    "\n",
    "M = M*1e3\n",
    "L = L*1e-3\n",
    "delta = delta*1e-3\n",
    "E = E*1e9\n",
    "Iz = Iz*1e-12\n",
    "EI = E*Iz\n",
    "F = symbols('F')\n",
    "\n",
    "tB = -M*L/EI\n",
    "yB = -M*L**2/(2*EI)\n",
    "\n",
    "yC1 = yB + tB*L\n",
    "yC2 = F*(2*L)**3/(3*EI)\n",
    "\n",
    "eqn = yC1 + yC2 + delta\n",
    "solve(eqn)[0]*1e-3"
   ]
  }
 ],
 "metadata": {
  "kernelspec": {
   "display_name": "Python 3 (ipykernel)",
   "language": "python",
   "name": "python3"
  },
  "language_info": {
   "codemirror_mode": {
    "name": "ipython",
    "version": 3
   },
   "file_extension": ".py",
   "mimetype": "text/x-python",
   "name": "python",
   "nbconvert_exporter": "python",
   "pygments_lexer": "ipython3",
   "version": "3.9.7"
  }
 },
 "nbformat": 4,
 "nbformat_minor": 5
}
