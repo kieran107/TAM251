{
 "cells": [
  {
   "cell_type": "markdown",
   "id": "f0110049",
   "metadata": {},
   "source": [
    "# HW8.1"
   ]
  },
  {
   "cell_type": "code",
   "execution_count": 4,
   "id": "2bf7e3e9",
   "metadata": {},
   "outputs": [
    {
     "data": {
      "text/plain": [
       "1.5163246870563942"
      ]
     },
     "execution_count": 4,
     "metadata": {},
     "output_type": "execute_result"
    }
   ],
   "source": [
    "from sympy import *\n",
    "\n",
    "b = 27 # mm\n",
    "t = 9 # mm\n",
    "Vy = 10 # kN\n",
    "\n",
    "A1 = 2 * 2*b*t\n",
    "A2 = 2 * b*2*b\n",
    "A3 = (4*b+2*t)*2*t\n",
    "\n",
    "y1 = t/2 + 2*b + 2*t\n",
    "y2 = b + 2*t\n",
    "y3 = t\n",
    "\n",
    "#I = 1/12*b*h**3 = 1/12*A*h**2\n",
    "\n",
    "I1 = 1/12*A1*t**2 + A1*y1**2\n",
    "I2 = 1/12*A2*(2*b)**2 + A2*y2**2\n",
    "I3 = 1/12*A3*(2*t)**2 + A3*t**2\n",
    "\n",
    "#上下两部分\n",
    "\n",
    "I = 2*(I1 + I2 + I3) \n",
    "\n",
    "#t越小，Q越大\n",
    "\n",
    "t = 2*b\n",
    "Q = A1*y1 + A2*y2\n",
    "\n",
    "tau = Vy*Q/(I*t)\n",
    "\n",
    "tau*10**3"
   ]
  },
  {
   "cell_type": "markdown",
   "id": "435ab035",
   "metadata": {},
   "source": [
    "# HW8.2"
   ]
  },
  {
   "cell_type": "code",
   "execution_count": 6,
   "id": "7e9a3518",
   "metadata": {},
   "outputs": [
    {
     "data": {
      "text/plain": [
       "(16.478816425698252, 54.879094205785464)"
      ]
     },
     "execution_count": 6,
     "metadata": {},
     "output_type": "execute_result"
    }
   ],
   "source": [
    "from sympy import *\n",
    "\n",
    "t1 = 5 # mm\n",
    "t2 = 8 # mm\n",
    "b = 83 # mm\n",
    "h = 81 # mm\n",
    "ybar = 60.54613 # mm\n",
    "Iz = 1168971.69629 # mm^4\n",
    "Vy = 35 # kN\n",
    "Mz = 677 # N.m\n",
    "\n",
    "c = t2 + h - ybar # compressive\n",
    "sigma = Mz*c/Iz\n",
    "\n",
    "A1 = b*t2\n",
    "y1 = t2/2+h - ybar\n",
    "A2 = 2*t1*(h-ybar)\n",
    "y2 = (h-ybar)/2\n",
    "\n",
    "t = 2*t1\n",
    "Q = A1*y1 + A2*y2\n",
    "\n",
    "tau = Vy*Q/(Iz*t)\n",
    "\n",
    "sigma*10**3, tau*10**3"
   ]
  },
  {
   "cell_type": "markdown",
   "id": "5f95cef2",
   "metadata": {},
   "source": [
    "# HW8.3"
   ]
  },
  {
   "cell_type": "code",
   "execution_count": 1,
   "id": "1bd4f63d",
   "metadata": {},
   "outputs": [
    {
     "data": {
      "text/plain": [
       "(33.5345213538700, 1.25139043381535)"
      ]
     },
     "execution_count": 1,
     "metadata": {},
     "output_type": "execute_result"
    }
   ],
   "source": [
    "from sympy import *\n",
    "\n",
    "b = 87 # mm\n",
    "a = 645 # mm\n",
    "P = 9 # kN\n",
    "sigmaAll = 178 # MPa\n",
    "tauAll = 62 # MPa\n",
    "\n",
    "b = b/1000\n",
    "a = a/1000\n",
    "P = P*1000\n",
    "sigmaAll = sigmaAll*10**6\n",
    "tauAll = tauAll*10**6\n",
    "\n",
    "# P在中间，支点在两侧\n",
    "\n",
    "h = symbols('h')\n",
    "\n",
    "M = P/2*a\n",
    "c = h/2\n",
    "I = 1/12*b*h**3\n",
    "sigma = M*c/I\n",
    "\n",
    "eqn1 = sigma - sigmaAll\n",
    "h1 = solve(eqn1)[1]*10**3\n",
    "\n",
    "V = P/2\n",
    "A = h*b\n",
    "tau = 1.5*V/A #公式\n",
    "\n",
    "eqn2 = tauAll - tau\n",
    "h2 = solve(eqn2)[0]*10**3\n",
    "\n",
    "max(h1, h2)  # h越大，tau越小"
   ]
  },
  {
   "cell_type": "markdown",
   "id": "748abfeb",
   "metadata": {},
   "source": [
    "# HW8.4"
   ]
  },
  {
   "cell_type": "markdown",
   "id": "b89572c5",
   "metadata": {},
   "source": [
    "Rectangular Cross Section:  $ \\  \\tau = 1.5\\frac{V}{A}[1-(\\frac{2y}{h})^2] $"
   ]
  },
  {
   "cell_type": "code",
   "execution_count": 3,
   "id": "9acb5689",
   "metadata": {},
   "outputs": [
    {
     "data": {
      "text/latex": [
       "$\\displaystyle 31.1447811447811$"
      ],
      "text/plain": [
       "31.1447811447811"
      ]
     },
     "execution_count": 3,
     "metadata": {},
     "output_type": "execute_result"
    }
   ],
   "source": [
    "from sympy import *\n",
    "\n",
    "h = 2 # in\n",
    "a = 37 # in\n",
    "P = 6 # kips\n",
    "s1 = 396 # psi\n",
    "s2 = 320 # psi\n",
    "\n",
    "###\n",
    "P = P*1000  #换算\n",
    "h = 3*h\n",
    "A = h*b\n",
    "\n",
    "b = symbols('b')\n",
    "\n",
    "M = P*a\n",
    "c = h / 6\n",
    "I = 1/12*b*h**3\n",
    "\n",
    "sigma = M*c/I\n",
    "eqn1 = s1 - sigma\n",
    "b1 = solve(eqn1)[0]\n",
    "\n",
    "y = h/6\n",
    "tau = 1.5*V/A*(1-(2*y/h)**2) #长方形公式\n",
    "eqn2 = s2 - tau\n",
    "b2 = solve(eqn2)[0]\n",
    "\n",
    "max(b1, b2)"
   ]
  },
  {
   "cell_type": "markdown",
   "id": "084061ed",
   "metadata": {},
   "source": [
    "# HW8.5"
   ]
  },
  {
   "cell_type": "code",
   "execution_count": 4,
   "id": "37de95de",
   "metadata": {},
   "outputs": [
    {
     "data": {
      "text/plain": [
       "(0.4957819189121129, 1.4873457567363384)"
      ]
     },
     "execution_count": 4,
     "metadata": {},
     "output_type": "execute_result"
    }
   ],
   "source": [
    "from sympy import *\n",
    "\n",
    "b = 38 # mm\n",
    "V = 7 # kN\n",
    "\n",
    "H = 4*b\n",
    "B = 3*b\n",
    "h = 2*b\n",
    "bb = 2*b\n",
    "\n",
    "I = 1/12*(B*H**3 - bb*h**3)\n",
    "\n",
    "A1 = b**2\n",
    "Q1 = A1*(b/2+b)\n",
    "t1 = b\n",
    "\n",
    "tau1 = V*Q1/(I*t1)\n",
    "\n",
    "A2 = 3*b**2\n",
    "Q2 = A2*(b/2+b)\n",
    "t2 = b\n",
    "\n",
    "tau2 = V*Q2/(I*t2)\n",
    "\n",
    "tau1*10**3, tau2*10**3"
   ]
  },
  {
   "cell_type": "markdown",
   "id": "5e17d766",
   "metadata": {},
   "source": [
    "# HW8.6"
   ]
  },
  {
   "cell_type": "code",
   "execution_count": 5,
   "id": "52b1562f",
   "metadata": {},
   "outputs": [
    {
     "data": {
      "text/latex": [
       "$\\displaystyle 97.6014297654009$"
      ],
      "text/plain": [
       "97.6014297654009"
      ]
     },
     "execution_count": 5,
     "metadata": {},
     "output_type": "execute_result"
    }
   ],
   "source": [
    "from sympy import *\n",
    "\n",
    "h = 172 # mm\n",
    "t = 47 # mm\n",
    "d = 17 # mm\n",
    "taub = 4 # MPa\n",
    "V = 4 # kN\n",
    "\n",
    "A = h*t\n",
    "ybar = (2*A*h/2 + A*h) / (3*A)\n",
    "\n",
    "Q = A*(h-ybar)\n",
    "I = 3*1/12*t*h**3 + 2*A*(h/2-ybar)**2 + A*(h-ybar)**2\n",
    "\n",
    "q = V*Q/I / 2  # q/2\n",
    "\n",
    "F = (pi/4*d**2)*taub  # Maximum Shear Force\n",
    "s = F/q\n",
    "\n",
    "s.evalf()/10**3"
   ]
  },
  {
   "cell_type": "markdown",
   "id": "b153793f",
   "metadata": {},
   "source": [
    "# HW8.7"
   ]
  },
  {
   "cell_type": "code",
   "execution_count": 7,
   "id": "8c220680",
   "metadata": {},
   "outputs": [
    {
     "data": {
      "text/latex": [
       "$\\displaystyle 5.73433248843546$"
      ],
      "text/plain": [
       "5.73433248843546"
      ]
     },
     "execution_count": 7,
     "metadata": {},
     "output_type": "execute_result"
    }
   ],
   "source": [
    "from sympy import *\n",
    "\n",
    "b = 217 # mm\n",
    "t = 39 # mm\n",
    "d = 11 # mm\n",
    "deltaS = 87 # mm\n",
    "Vy = 4 # kN\n",
    "\n",
    "tau = symbols('tau')\n",
    "\n",
    "I = 1/12*b*(2*t+b)**3 - 1/12*(b-2*t)*b**3\n",
    "Q = b*t*(t/2+b/2)\n",
    "q = Vy*Q/I / 2 \n",
    "\n",
    "F = pi/4*d**2 * tau\n",
    "eqn = q - F/deltaS\n",
    "solve(eqn)[0]*10**3"
   ]
  },
  {
   "cell_type": "markdown",
   "id": "317b5cca",
   "metadata": {},
   "source": [
    "# HW8.8"
   ]
  },
  {
   "cell_type": "code",
   "execution_count": 8,
   "id": "327323a0",
   "metadata": {},
   "outputs": [
    {
     "data": {
      "text/plain": [
       "(61.7770586259641, 484.438500000000, 4.02139573371640)"
      ]
     },
     "execution_count": 8,
     "metadata": {},
     "output_type": "execute_result"
    }
   ],
   "source": [
    "from sympy import *\n",
    "\n",
    "D = 195 # mm\n",
    "d = 117 # mm\n",
    "V = 40 # kN\n",
    "\n",
    "R = D/2\n",
    "r = d/2\n",
    "\n",
    "Io = 1/4*pi*R**4\n",
    "Ii = 1/4*pi*r**4\n",
    "I = Io - Ii\n",
    "\n",
    "A = pi*R**2/2\n",
    "a = pi*r**2/2\n",
    "\n",
    "Y = 4*R/(3*pi)\n",
    "y = 4*r/(3*pi)\n",
    "\n",
    "Q = A*Y - a*y\n",
    "\n",
    "tau = V*Q/(I*(D-d))\n",
    "\n",
    "I.evalf()/10**6, Q/10**3, (tau*10**3).evalf()"
   ]
  },
  {
   "cell_type": "markdown",
   "id": "afab1484",
   "metadata": {},
   "source": [
    "# HW8.9"
   ]
  },
  {
   "cell_type": "code",
   "execution_count": 9,
   "id": "bdf999b7",
   "metadata": {},
   "outputs": [
    {
     "data": {
      "text/plain": [
       "(872.341, 2.75264586160109, 7.63637239024818)"
      ]
     },
     "execution_count": 9,
     "metadata": {},
     "output_type": "execute_result"
    }
   ],
   "source": [
    "from sympy import *\n",
    "\n",
    "b = 43 # in\n",
    "t = 12 # in\n",
    "d = 0.94 # in\n",
    "deltaS = 67 # in\n",
    "Vmax = 3 # lb\n",
    "\n",
    "I = 1/12*( b*(2*t+b)**3 - (b-t)*b**3 )\n",
    "\n",
    "F = Vmax\n",
    "V = symbols('V')\n",
    "\n",
    "Q1 = t*b*(t+b)/2\n",
    "q1 = V*Q1/I\n",
    "eqn1 = q1 - F/deltaS\n",
    "\n",
    "Q2 = (b-t)/2*t*(t+b)/2\n",
    "q2 = V*Q2/I\n",
    "eqn2 = q2 - F/deltaS\n",
    "\n",
    "I/10**3, solve(eqn1)[0], solve(eqn2)[0]"
   ]
  }
 ],
 "metadata": {
  "kernelspec": {
   "display_name": "Python 3 (ipykernel)",
   "language": "python",
   "name": "python3"
  },
  "language_info": {
   "codemirror_mode": {
    "name": "ipython",
    "version": 3
   },
   "file_extension": ".py",
   "mimetype": "text/x-python",
   "name": "python",
   "nbconvert_exporter": "python",
   "pygments_lexer": "ipython3",
   "version": "3.9.7"
  }
 },
 "nbformat": 4,
 "nbformat_minor": 5
}
