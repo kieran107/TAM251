{
 "cells": [
  {
   "cell_type": "markdown",
   "metadata": {},
   "source": [
    "# HW10.1"
   ]
  },
  {
   "cell_type": "code",
   "execution_count": 1,
   "metadata": {},
   "outputs": [
    {
     "data": {
      "text/plain": [
       "(13.866068747318506, -15.866068747318506, 66.13684450304687)"
      ]
     },
     "execution_count": 1,
     "metadata": {},
     "output_type": "execute_result"
    }
   ],
   "source": [
    "from numpy import *\n",
    "\n",
    "sx = -11\n",
    "sy = 9\n",
    "txy = 11\n",
    "\n",
    "savg = (sx + sy)/2  # center\n",
    "botm = (sx - sy)/2  # bottom line\n",
    "R = sqrt(botm**2 + txy**2)  \n",
    "\n",
    "s1 = savg + R  # right x'\n",
    "s2 = savg - R  # left y'\n",
    "\n",
    "thep = arctan2(txy, botm)/2  # 2\n",
    "\n",
    "s1, s2, degrees(thep)"
   ]
  },
  {
   "cell_type": "markdown",
   "metadata": {},
   "source": [
    "# HW10.2"
   ]
  },
  {
   "cell_type": "code",
   "execution_count": 3,
   "metadata": {},
   "outputs": [
    {
     "data": {
      "text/plain": [
       "(11.45362404707371, -15.45362404707371, 69.00639375209168, 24.00639375209167)"
      ]
     },
     "execution_count": 3,
     "metadata": {},
     "output_type": "execute_result"
    }
   ],
   "source": [
    "from numpy import *\n",
    "\n",
    "sx = -12\n",
    "sy = 8\n",
    "txy = 9\n",
    "\n",
    "savg = (sx + sy)/2\n",
    "botm = (sx - sy)/2\n",
    "R = sqrt(botm**2 + txy**2)\n",
    "\n",
    "s1 = savg + R\n",
    "s2 = savg - R\n",
    "\n",
    "thep = arctan2(txy, botm)/2\n",
    "thes = -arctan2(botm, txy)/2  # -\n",
    "\n",
    "s1, s2, degrees(thep), degrees(thes)"
   ]
  },
  {
   "cell_type": "markdown",
   "metadata": {},
   "source": [
    "# HW10.3"
   ]
  },
  {
   "cell_type": "code",
   "execution_count": 4,
   "metadata": {},
   "outputs": [
    {
     "data": {
      "text/plain": [
       "(22.848624252510795,\n",
       " -29.848624252510795,\n",
       " -28.305743211944247,\n",
       " 26.348624252510795,\n",
       " -73.30574321194425,\n",
       " -3.5)"
      ]
     },
     "execution_count": 4,
     "metadata": {},
     "output_type": "execute_result"
    }
   ],
   "source": [
    "from numpy import *\n",
    "\n",
    "sx = 11\n",
    "sy = -18\n",
    "txy = -22\n",
    "\n",
    "savg = (sx + sy)/2\n",
    "botm = (sx - sy)/2\n",
    "R = sqrt(botm**2 + txy**2)\n",
    "\n",
    "s1 = savg + R\n",
    "s2 = savg - R\n",
    "\n",
    "thep = arctan2(txy, botm)/2\n",
    "thes = -arctan2(botm, txy)/2\n",
    "\n",
    "s1, s2, degrees(thep), R, degrees(thes), savg"
   ]
  },
  {
   "cell_type": "markdown",
   "metadata": {},
   "source": [
    "# HW10.4"
   ]
  },
  {
   "cell_type": "code",
   "execution_count": 22,
   "metadata": {
    "scrolled": true
   },
   "outputs": [
    {
     "data": {
      "text/plain": [
       "(14.486384946744039,\n",
       " 26.982,\n",
       " 0,\n",
       " 26.982,\n",
       " 14.486384946744039,\n",
       " 90.0,\n",
       " 7.952698240850929)"
      ]
     },
     "execution_count": 22,
     "metadata": {},
     "output_type": "execute_result"
    }
   ],
   "source": [
    "from numpy import *\n",
    "\n",
    "p = 1499 # kPa\n",
    "F = 14 # kN\n",
    "t = 11 # mm\n",
    "r = 198 # mm\n",
    "sigmaY = 186 # MPa\n",
    "\n",
    "p = p*1000\n",
    "F = F*1000\n",
    "t = t/1000\n",
    "r = r/1000\n",
    "\n",
    "sx = (F/(pi*((r+t)**2-r**2)) + p*r/(2*t))*1e-6\n",
    "sy = p*r/t*1e-6\n",
    "txy = 0\n",
    "\n",
    "savg = (sx + sy)/2\n",
    "botm = (sx - sy)/2\n",
    "R = sqrt(botm**2 + txy**2)\n",
    "\n",
    "s1 = savg + R\n",
    "s2 = savg - R\n",
    "\n",
    "thep = arctan2(txy, botm)/2\n",
    "\n",
    "sY = sqrt(s1**2 - s1*s2 + s2**2) # name\n",
    "FS = sigmaY / sY\n",
    "\n",
    "sx, sy, txy, s1, s2, degrees(thep), FS"
   ]
  },
  {
   "cell_type": "markdown",
   "metadata": {},
   "source": [
    "# HW10.5"
   ]
  },
  {
   "cell_type": "code",
   "execution_count": 25,
   "metadata": {
    "scrolled": true
   },
   "outputs": [
    {
     "data": {
      "text/plain": [
       "(13.229999999999999,\n",
       " 26.459999999999997,\n",
       " -0.4242178181095207,\n",
       " 26.473588519225007,\n",
       " 13.21641148077499,\n",
       " -88.16533240438922,\n",
       " 6.6285885192250085,\n",
       " 8.156390101266627)"
      ]
     },
     "execution_count": 25,
     "metadata": {},
     "output_type": "execute_result"
    }
   ],
   "source": [
    "from numpy import *\n",
    "\n",
    "p = 1470 # kPa\n",
    "T = 3 # kN.m\n",
    "t = 15 # mm\n",
    "r = 270 # mm\n",
    "sigmaY = 187 # MPa\n",
    "\n",
    "p = p*1000\n",
    "T = T*1000\n",
    "t = t/1000\n",
    "r = r/1000\n",
    "\n",
    "J = pi/2*((r+t)**4 - r**4)\n",
    "\n",
    "sx = p*r/(2*t)*1e-6\n",
    "sy = p*r/t*1e-6\n",
    "txy = -T*(r+t)/J*1e-6  # direction\n",
    "\n",
    "savg = (sx + sy)/2\n",
    "botm = (sx - sy)/2\n",
    "R = sqrt(botm**2 + txy**2)\n",
    "\n",
    "s1 = savg + R\n",
    "s2 = savg - R\n",
    "\n",
    "thep = arctan2(txy, botm)/2\n",
    "\n",
    "sY = sqrt(s1**2 - s1*s2 + s2**2)\n",
    "FS = sigmaY / sY\n",
    "\n",
    "sx, sy, txy, s1, s2, degrees(thep), R, FS"
   ]
  },
  {
   "cell_type": "markdown",
   "metadata": {},
   "source": [
    "# HW10.6"
   ]
  },
  {
   "cell_type": "code",
   "execution_count": 8,
   "metadata": {},
   "outputs": [
    {
     "data": {
      "text/plain": [
       "(30.23243291566195, -30.23243291566195, -62.10785106621869, 30.23243291566195)"
      ]
     },
     "execution_count": 8,
     "metadata": {},
     "output_type": "execute_result"
    }
   ],
   "source": [
    "from numpy import *\n",
    "\n",
    "sx = -17\n",
    "sy = 17\n",
    "txy = -25\n",
    "\n",
    "savg = (sx + sy)/2\n",
    "botm = (sx - sy)/2\n",
    "R = sqrt(botm**2 + txy**2)\n",
    "\n",
    "s1 = savg + R\n",
    "s2 = savg - R\n",
    "\n",
    "thep = arctan2(txy, botm)/2\n",
    "\n",
    "s1, s2, degrees(thep), R"
   ]
  },
  {
   "cell_type": "markdown",
   "metadata": {},
   "source": [
    "# HW10.7"
   ]
  },
  {
   "cell_type": "code",
   "execution_count": 9,
   "metadata": {},
   "outputs": [
    {
     "data": {
      "text/plain": [
       "(-0.48036911859280895, 27.48036911859281, 13.520328372783576)"
      ]
     },
     "execution_count": 9,
     "metadata": {},
     "output_type": "execute_result"
    }
   ],
   "source": [
    "from numpy import *\n",
    "\n",
    "sigma_x = 27.0 # MPa\n",
    "sigma_y = 0.0 # MPa\n",
    "tau_xy = -14.0 # MPa\n",
    "\n",
    "t2 = 2*radians(89)\n",
    "sx = sigma_x\n",
    "sy = sigma_y\n",
    "txy = tau_xy\n",
    "\n",
    "savg = (sx + sy)/2\n",
    "botm = (sx - sy)/2\n",
    "\n",
    "sX = savg + botm*cos(t2) + txy*sin(t2)\n",
    "sY = savg - botm*cos(t2) - txy*sin(t2)\n",
    "tXY = -botm*sin(t2) + txy*cos(t2)\n",
    "\n",
    "sX, sY, tXY"
   ]
  },
  {
   "cell_type": "markdown",
   "metadata": {},
   "source": [
    "# HW10.8"
   ]
  },
  {
   "cell_type": "code",
   "execution_count": 10,
   "metadata": {},
   "outputs": [
    {
     "data": {
      "text/plain": [
       "(-28.94176391818638, -7.05823608181362, -21.407424001001957)"
      ]
     },
     "execution_count": 10,
     "metadata": {},
     "output_type": "execute_result"
    }
   ],
   "source": [
    "from numpy import *\n",
    "\n",
    "t2 = 2*radians(22)\n",
    "sx = -11\n",
    "sy = -25\n",
    "txy = -23\n",
    "\n",
    "savg = (sx + sy)/2\n",
    "botm = (sx - sy)/2\n",
    "\n",
    "sX = savg + botm*cos(t2) + txy*sin(t2)\n",
    "sY = savg - botm*cos(t2) - txy*sin(t2)\n",
    "tXY = -botm*sin(t2) + txy*cos(t2)\n",
    "\n",
    "sX, sY, tXY"
   ]
  },
  {
   "cell_type": "markdown",
   "metadata": {},
   "source": [
    "# HW10.9"
   ]
  },
  {
   "cell_type": "code",
   "execution_count": 125,
   "metadata": {},
   "outputs": [],
   "source": [
    "#Blank"
   ]
  },
  {
   "cell_type": "markdown",
   "metadata": {},
   "source": [
    "# HW10.10"
   ]
  },
  {
   "cell_type": "code",
   "execution_count": 122,
   "metadata": {},
   "outputs": [],
   "source": [
    "sY = sqrt(s1**2 - s1*s2 + s2**2)\n",
    "\n",
    "# sY越大，安全系数越低，越容易fail"
   ]
  },
  {
   "cell_type": "markdown",
   "metadata": {},
   "source": [
    "# HW10.11"
   ]
  },
  {
   "cell_type": "code",
   "execution_count": 124,
   "metadata": {},
   "outputs": [],
   "source": [
    "# 最大应力越大，越容易fail (同向)"
   ]
  },
  {
   "cell_type": "markdown",
   "metadata": {},
   "source": [
    "# HW10.12"
   ]
  },
  {
   "cell_type": "code",
   "execution_count": 21,
   "metadata": {},
   "outputs": [
    {
     "data": {
      "text/latex": [
       "$\\displaystyle 6.46600983622727$"
      ],
      "text/plain": [
       "6.46600983622727"
      ]
     },
     "execution_count": 21,
     "metadata": {},
     "output_type": "execute_result"
    }
   ],
   "source": [
    "from sympy import *\n",
    "\n",
    "d = 64 # mm\n",
    "sigyield = 256 # MPa\n",
    "P = 158 # kN\n",
    "\n",
    "d = d*1e-3\n",
    "sigyield = sigyield*1e6\n",
    "P = P*1e3\n",
    "\n",
    "r = d/2\n",
    "A = pi*r**2\n",
    "J = pi/2*r**4\n",
    "T = symbols('T')\n",
    "\n",
    "sx = -P/A\n",
    "sy = 0\n",
    "txy = T*r/J\n",
    "\n",
    "savg = (sx + sy)/2\n",
    "botm = (sx - sy)/2\n",
    "\n",
    "R = sqrt(botm**2 + txy**2)\n",
    "\n",
    "s1 = savg + R\n",
    "s2 = savg - R\n",
    "\n",
    "sY = s1 - s2  #前正后负\n",
    "\n",
    "torque = solve(sY - sigyield)[1]\n",
    "torque*1e-3"
   ]
  }
 ],
 "metadata": {
  "kernelspec": {
   "display_name": "Python 3 (ipykernel)",
   "language": "python",
   "name": "python3"
  },
  "language_info": {
   "codemirror_mode": {
    "name": "ipython",
    "version": 3
   },
   "file_extension": ".py",
   "mimetype": "text/x-python",
   "name": "python",
   "nbconvert_exporter": "python",
   "pygments_lexer": "ipython3",
   "version": "3.9.7"
  }
 },
 "nbformat": 4,
 "nbformat_minor": 2
}
